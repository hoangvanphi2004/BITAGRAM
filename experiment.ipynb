{
 "cells": [
  {
   "cell_type": "code",
   "execution_count": 5,
   "metadata": {},
   "outputs": [],
   "source": [
    "import helper\n",
    "import time\n",
    "import numpy as np\n",
    "import cv2\n",
    "from PIL import Image\n",
    "import random"
   ]
  },
  {
   "cell_type": "code",
   "execution_count": 6,
   "metadata": {},
   "outputs": [],
   "source": [
    "def run_test(image, victim_position, fatals, victim_needs, rescue_position, rescue_resources, algorithm = 'theta*'):\n",
    "    start_time = time.time()\n",
    "    # WIDTH, HEIGHT = 640, 480\n",
    "    # background = np.array(Image.open(image_link))\n",
    "    # background = cv2.resize(background, (WIDTH, HEIGHT))\n",
    "    # background = np.transpose(background, (1, 0, 2))\n",
    "    # groundMapModel = helper.buildMap(background)\n",
    "    # # print(groundMapModel)\n",
    "    # groundMapModel = np.repeat(groundMapModel.reshape(groundMapModel.shape[0], groundMapModel.shape[1], 1), 3, axis=2)\n",
    "    # groundMapModel = helper.turn_image_to_binary(groundMapModel, 1)\n",
    "\n",
    "    res = np.array(rescue_position)\n",
    "    vic = np.array(victim_position)\n",
    "\n",
    "    if algorithm == \"theta*\":\n",
    "        _,  cost_matrix = helper.solve_for_paths(\n",
    "            image, res, vic, fatals, rescue_resources, victim_needs\n",
    "        )\n",
    "    elif algorithm == \"a*\":\n",
    "        _,  cost_matrix = helper.solve_for_paths(\n",
    "            image, res, vic, fatals, rescue_resources, victim_needs, algorithm=\"a_aristek\"\n",
    "        )\n",
    "    elif algorithm == \"BFS\":\n",
    "        _,  cost_matrix = helper.solve_for_path_with_BFS(\n",
    "            image, res, vic, fatals, rescue_resources, victim_needs\n",
    "        )\n",
    "        \n",
    "    def L2(p1, p2):\n",
    "        return np.sqrt((p1[0] - p2[0])**2 + (p1[1] - p2[1])**2);\n",
    "\n",
    "    s = 0\n",
    "    cnt = 0\n",
    "    for costs in cost_matrix:\n",
    "        for cost in costs:\n",
    "            if(cost != 1e9):\n",
    "                cnt += 1\n",
    "                s += cost\n",
    "            # if path is not None:\n",
    "            #     for index, point in enumerate(path):\n",
    "            #         if(index < len(path) - 1):\n",
    "            #             next_point = path[index + 1]\n",
    "            #             s = s + L2(point, next_point)\n",
    "    duration = time.time() - start_time\n",
    "    return s / cnt, duration"
   ]
  },
  {
   "cell_type": "code",
   "execution_count": 7,
   "metadata": {},
   "outputs": [],
   "source": [
    "WIDTH, HEIGHT = 640, 480\n",
    "\n",
    "def getGroundMapModel(image_link: str):\n",
    "    groundMapModel = np.array(Image.open(image_link))\n",
    "    groundMapModel = cv2.resize(groundMapModel, (WIDTH, HEIGHT))\n",
    "    groundMapModel = np.transpose(groundMapModel, (1, 0, 2))\n",
    "    groundMapModel = helper.buildMap(groundMapModel)\n",
    "    groundMapModel = np.repeat(\n",
    "        groundMapModel.reshape(groundMapModel.shape[0], groundMapModel.shape[1], 1),\n",
    "        3,\n",
    "        axis=2,\n",
    "    )\n",
    "    groundMapModel = helper.turn_image_to_binary(groundMapModel, 1)\n",
    "    return groundMapModel\n",
    "\n",
    "groundMapModel = getGroundMapModel(\"test.jpg\")\n",
    "_, _, reachable = helper.BFS(groundMapModel, (50, 50))\n",
    "\n",
    "def generateTest(\n",
    "    groundMapModel: np.array,\n",
    "    number_of_rescue_teams: int,\n",
    "    number_of_victims: int,\n",
    "    rescue_resources_range: int = 10,\n",
    "    victim_needs_range: int = 3,\n",
    "):\n",
    "    # generate rescute teams' informations\n",
    "    rescue_positions = []\n",
    "    for _ in range(number_of_rescue_teams):\n",
    "        x = random.randrange(WIDTH - 10)\n",
    "        y = random.randrange(HEIGHT - 10)\n",
    "        #while groundMapModel[x][y] != 1:\n",
    "        while reachable[x, y] != 1:\n",
    "            x = random.randrange(WIDTH - 10)\n",
    "            y = random.randrange(HEIGHT - 10)\n",
    "        rescue_positions.append((x, y))\n",
    "    rescue_positions = np.array(rescue_positions)\n",
    "    rescue_resources = np.random.randint(\n",
    "        1, rescue_resources_range, size=number_of_rescue_teams\n",
    "    )\n",
    "\n",
    "    # generate victims' informations\n",
    "    victim_positions = []\n",
    "    for _ in range(number_of_victims):\n",
    "        x = random.randrange(WIDTH - 10)\n",
    "        y = random.randrange(HEIGHT - 10)\n",
    "        #while groundMapModel[x][y] != 1:\n",
    "        while reachable[x, y] != 1:\n",
    "            x = random.randrange(WIDTH - 10)\n",
    "            y = random.randrange(HEIGHT - 10)\n",
    "        victim_positions.append((x, y))\n",
    "    victim_positions = np.array(victim_positions)\n",
    "\n",
    "    fatals = np.random.permutation(np.arange(1, number_of_victims + 1))\n",
    "    victim_needs = np.random.randint(1, victim_needs_range, size=number_of_victims)\n",
    "    return (rescue_positions, victim_positions, fatals, rescue_resources, victim_needs)"
   ]
  },
  {
   "cell_type": "code",
   "execution_count": null,
   "metadata": {},
   "outputs": [],
   "source": [
    "for i in [8, 12, 16]:\n",
    "    rescue_positions, victim_positions, fatals, rescue_resources, victim_needs = (\n",
    "        generateTest(\n",
    "            groundMapModel=groundMapModel, number_of_rescue_teams = i // 2, number_of_victims=i\n",
    "        )\n",
    "    )\n",
    "\n",
    "    print(run_test(groundMapModel, victim_positions, fatals, victim_needs, rescue_positions, rescue_resources))"
   ]
  },
  {
   "cell_type": "code",
   "execution_count": null,
   "metadata": {},
   "outputs": [
    {
     "name": "stdout",
     "output_type": "stream",
     "text": [
      "(406.4633566217716, 53.577428340911865)\n",
      "(399.1314532334678, 22.795886754989624)\n"
     ]
    }
   ],
   "source": [
    "rescue_positions, victim_positions, fatals, rescue_resources, victim_needs = (\n",
    "    generateTest(\n",
    "        groundMapModel=groundMapModel, number_of_rescue_teams = 6, number_of_victims = 12\n",
    "    )\n",
    ")\n",
    "\n",
    "print(run_test(groundMapModel, victim_positions, fatals, victim_needs, rescue_positions, rescue_resources))\n",
    "print(run_test(groundMapModel, victim_positions, fatals, victim_needs, rescue_positions, rescue_resources, algorithm=\"a*\"))"
   ]
  },
  {
   "cell_type": "code",
   "execution_count": null,
   "metadata": {},
   "outputs": [
    {
     "name": "stdout",
     "output_type": "stream",
     "text": [
      "(440.2775370689685, 52.95148825645447)\n",
      "(435.941247562051, 18.745772123336792)\n",
      "(428.6020500233144, 11.098731517791748)\n"
     ]
    }
   ],
   "source": [
    "rescue_positions, victim_positions, fatals, rescue_resources, victim_needs = (\n",
    "    generateTest(\n",
    "        groundMapModel=groundMapModel, number_of_rescue_teams = 3, number_of_victims = 12\n",
    "    )\n",
    ")\n",
    "print(run_test(groundMapModel, victim_positions, fatals, victim_needs, rescue_positions, rescue_resources))\n",
    "print(run_test(groundMapModel, victim_positions, fatals, victim_needs, rescue_positions, rescue_resources, algorithm=\"a*\"))\n",
    "print(run_test(groundMapModel, victim_positions, fatals, victim_needs, rescue_positions, rescue_resources, algorithm=\"BFS\"))"
   ]
  },
  {
   "cell_type": "code",
   "execution_count": null,
   "metadata": {},
   "outputs": [
    {
     "name": "stdout",
     "output_type": "stream",
     "text": [
      "(304.28189583136884, 32.35368251800537)\n",
      "(301.2047888099053, 19.502323865890503)\n",
      "(295.1651017506057, 32.81974673271179)\n"
     ]
    }
   ],
   "source": [
    "rescue_positions, victim_positions, fatals, rescue_resources, victim_needs = (\n",
    "    generateTest(\n",
    "        groundMapModel=groundMapModel, number_of_rescue_teams = 8, number_of_victims = 8\n",
    "    )\n",
    ")\n",
    "print(run_test(groundMapModel, victim_positions, fatals, victim_needs, rescue_positions, rescue_resources))\n",
    "print(run_test(groundMapModel, victim_positions, fatals, victim_needs, rescue_positions, rescue_resources, algorithm=\"a*\"))\n",
    "print(run_test(groundMapModel, victim_positions, fatals, victim_needs, rescue_positions, rescue_resources, algorithm=\"BFS\"))"
   ]
  }
 ],
 "metadata": {
  "kernelspec": {
   "display_name": "Python 3",
   "language": "python",
   "name": "python3"
  },
  "language_info": {
   "codemirror_mode": {
    "name": "ipython",
    "version": 3
   },
   "file_extension": ".py",
   "mimetype": "text/x-python",
   "name": "python",
   "nbconvert_exporter": "python",
   "pygments_lexer": "ipython3",
   "version": "3.11.9"
  }
 },
 "nbformat": 4,
 "nbformat_minor": 2
}
