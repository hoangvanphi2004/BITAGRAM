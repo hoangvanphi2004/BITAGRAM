{
 "cells": [
  {
   "cell_type": "code",
   "execution_count": null,
   "metadata": {},
   "outputs": [],
   "source": [
    "import helper\n",
    "import time\n",
    "import numpy\n",
    "import cv2"
   ]
  },
  {
   "cell_type": "code",
   "execution_count": null,
   "metadata": {},
   "outputs": [],
   "source": [
    "def run_test(image_link, victim_position, fatals, victim_needs, rescue_position, rescue_resources):\n",
    "    start_time = time.time()\n",
    "    WIDTH, HEIGHT = 640, 480\n",
    "    background = numpy.array(Image.open(image_link))\n",
    "    background = cv2.resize(background, (WIDTH, HEIGHT))\n",
    "    background = numpy.transpose(background, (1, 0, 2))\n",
    "    groundMapModel = helper.buildMap(background)\n",
    "    # print(groundMapModel)\n",
    "    groundMapModel = numpy.repeat(groundMapModel.reshape(groundMapModel.shape[0], groundMapModel.shape[1], 1), 3, axis=2)\n",
    "    groundMapModel = helper.turn_image_to_binary(groundMapModel, 1)\n",
    "\n",
    "    res = numpy.array(rescue_position)\n",
    "    vic = numpy.array(victim_position)\n",
    "\n",
    "    paths = helper.solve_for_paths(\n",
    "        groundMapModel, res, vic, fatals, rescue_resources, victim_needs\n",
    "    )\n",
    "\n",
    "    duration = time.time() - start_time\n",
    "    return paths, duration"
   ]
  }
 ],
 "metadata": {
  "kernelspec": {
   "display_name": "Python 3",
   "language": "python",
   "name": "python3"
  },
  "language_info": {
   "codemirror_mode": {
    "name": "ipython",
    "version": 3
   },
   "file_extension": ".py",
   "mimetype": "text/x-python",
   "name": "python",
   "nbconvert_exporter": "python",
   "pygments_lexer": "ipython3",
   "version": "3.11.9"
  }
 },
 "nbformat": 4,
 "nbformat_minor": 2
}
