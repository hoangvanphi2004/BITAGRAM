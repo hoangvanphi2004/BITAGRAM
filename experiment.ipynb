{
 "cells": [
  {
   "cell_type": "code",
   "execution_count": 25,
   "metadata": {},
   "outputs": [],
   "source": [
    "import helper\n",
    "import time\n",
    "import numpy as np\n",
    "import cv2\n",
    "from PIL import Image\n",
    "import random"
   ]
  },
  {
   "cell_type": "code",
   "execution_count": 26,
   "metadata": {},
   "outputs": [],
   "source": [
    "def run_test(image, victim_position, fatals, victim_needs, rescue_position, rescue_resources):\n",
    "    start_time = time.time()\n",
    "    # WIDTH, HEIGHT = 640, 480\n",
    "    # background = np.array(Image.open(image_link))\n",
    "    # background = cv2.resize(background, (WIDTH, HEIGHT))\n",
    "    # background = np.transpose(background, (1, 0, 2))\n",
    "    # groundMapModel = helper.buildMap(background)\n",
    "    # # print(groundMapModel)\n",
    "    # groundMapModel = np.repeat(groundMapModel.reshape(groundMapModel.shape[0], groundMapModel.shape[1], 1), 3, axis=2)\n",
    "    # groundMapModel = helper.turn_image_to_binary(groundMapModel, 1)\n",
    "\n",
    "    res = np.array(rescue_position)\n",
    "    vic = np.array(victim_position)\n",
    "\n",
    "    _,  paths_matrix = helper.solve_for_paths(\n",
    "        image, res, vic, fatals, rescue_resources, victim_needs\n",
    "    )\n",
    "\n",
    "    def L2(p1, p2):\n",
    "        return np.sqrt((p1[0] - p2[0])**2 + (p1[1] - p2[1])**2);\n",
    "\n",
    "    print(paths_matrix)\n",
    "    s = 0\n",
    "    cnt = 0\n",
    "    for path_temp in paths_matrix:\n",
    "        for path in path_temp:\n",
    "            cnt += 1\n",
    "            if path is not None:\n",
    "                for index, point in enumerate(path):\n",
    "                    if(index < len(path) - 1):\n",
    "                        next_point = path[index + 1]\n",
    "                        s = s + L2(point, next_point)\n",
    "    duration = time.time() - start_time\n",
    "    return s / cnt, duration"
   ]
  },
  {
   "cell_type": "code",
   "execution_count": 27,
   "metadata": {},
   "outputs": [],
   "source": [
    "WIDTH, HEIGHT = 640, 480\n",
    "\n",
    "\n",
    "def getGroundMapModel(image_link: str):\n",
    "    groundMapModel = np.array(Image.open(image_link))\n",
    "    groundMapModel = cv2.resize(groundMapModel, (WIDTH, HEIGHT))\n",
    "    groundMapModel = np.transpose(groundMapModel, (1, 0, 2))\n",
    "    groundMapModel = helper.buildMap(groundMapModel)\n",
    "    groundMapModel = np.repeat(\n",
    "        groundMapModel.reshape(groundMapModel.shape[0], groundMapModel.shape[1], 1),\n",
    "        3,\n",
    "        axis=2,\n",
    "    )\n",
    "    groundMapModel = helper.turn_image_to_binary(groundMapModel, 1)\n",
    "    return groundMapModel\n",
    "\n",
    "\n",
    "def generateTest(\n",
    "    groundMapModel: np.array,\n",
    "    number_of_rescue_teams: int,\n",
    "    number_of_victims: int,\n",
    "    rescue_resources_range: int = 10,\n",
    "    victim_needs_range: int = 3,\n",
    "):\n",
    "    # generate rescute teams' informations\n",
    "    rescue_positions = []\n",
    "    for _ in range(number_of_rescue_teams):\n",
    "        x = random.randrange(WIDTH - 10)\n",
    "        y = random.randrange(HEIGHT - 10)\n",
    "        while groundMapModel[x][y] != 1:\n",
    "            x = random.randrange(WIDTH - 10)\n",
    "            y = random.randrange(HEIGHT - 10)\n",
    "        rescue_positions.append((x, y))\n",
    "    rescue_positions = np.array(rescue_positions)\n",
    "    rescue_resources = np.random.randint(\n",
    "        1, rescue_resources_range, size=number_of_rescue_teams\n",
    "    )\n",
    "\n",
    "    # generate victims' informations\n",
    "    victim_positions = []\n",
    "    for _ in range(number_of_victims):\n",
    "        x = random.randrange(WIDTH - 10)\n",
    "        y = random.randrange(HEIGHT - 10)\n",
    "        while groundMapModel[x][y] != 1:\n",
    "            x = random.randrange(WIDTH - 10)\n",
    "            y = random.randrange(HEIGHT - 10)\n",
    "        victim_positions.append((x, y))\n",
    "    victim_positions = np.array(victim_positions)\n",
    "\n",
    "    fatals = np.random.permutation(np.arange(1, number_of_victims + 1))\n",
    "    victim_needs = np.random.randint(1, victim_needs_range, size=number_of_victims)\n",
    "    return (rescue_positions, victim_positions, fatals, rescue_resources, victim_needs)"
   ]
  },
  {
   "cell_type": "code",
   "execution_count": 28,
   "metadata": {},
   "outputs": [
    {
     "name": "stdout",
     "output_type": "stream",
     "text": [
      "[[[(248, 446), (248, 445), (248, 444), (248, 443), (248, 442), (249, 441), (249, 440), (249, 439), (249, 438), (250, 437), (250, 436), (250, 435), (250, 434), (251, 433), (251, 432), (251, 431), (251, 430), (252, 429), (252, 428), (252, 427), (252, 426), (252, 425), (253, 424), (253, 423), (253, 422), (253, 421), (254, 420), (254, 419), (254, 418), (254, 417), (255, 416), (255, 415), (255, 414), (255, 413), (256, 412), (256, 411), (256, 410), (256, 409), (257, 408), (257, 407), (257, 406), (257, 405), (257, 404), (258, 403), (258, 402), (258, 401), (258, 400), (259, 399), (259, 398), (259, 397), (259, 396), (260, 395), (260, 394), (260, 393), (260, 392), (261, 391), (261, 390), (261, 389), (261, 388), (262, 387), (262, 386), (262, 385), (262, 384), (262, 383), (263, 382), (263, 381), (263, 380), (263, 379), (264, 378), (264, 377), (264, 376), (264, 375), (265, 374), (265, 373), (265, 372), (265, 371), (266, 370), (266, 369), (266, 368), (266, 367), (266, 366), (267, 365), (267, 364), (267, 363), (267, 362), (268, 361), (268, 360), (268, 359), (268, 358), (269, 357), (269, 356), (269, 355), (269, 354), (270, 353), (270, 352), (270, 351), (270, 350), (271, 349), (271, 348), (271, 347), (271, 346), (271, 345), (272, 344), (272, 343), (272, 342), (272, 341), (273, 340), (273, 339), (273, 338), (273, 337), (274, 336), (274, 335), (274, 334), (274, 333), (275, 332), (275, 331), (275, 330), (275, 329), (276, 328), (276, 327), (276, 326), (276, 325), (276, 324), (277, 323), (277, 322), (277, 321), (277, 320), (278, 319), (278, 318), (278, 317), (278, 316), (279, 315), (279, 314), (279, 313), (279, 312), (280, 311), (280, 310), (280, 309), (280, 308), (281, 307), (281, 306), (281, 305), (281, 304), (281, 303), (282, 302), (282, 301), (282, 300), (282, 299), (283, 298), (283, 297), (283, 296), (283, 295), (284, 294), (284, 293), (284, 292), (284, 291), (285, 290), (285, 289), (285, 288), (285, 287), (285, 286), (286, 285), (286, 284), (286, 283), (286, 282), (287, 281), (287, 280), (287, 279), (287, 278), (288, 277), (288, 276), (288, 275), (288, 274), (289, 273), (289, 272), (289, 271), (289, 270), (290, 269), (290, 268), (290, 267), (290, 266), (290, 265), (291, 264), (291, 263), (291, 262), (291, 261), (292, 260), (292, 259), (292, 258), (292, 257), (293, 256), (293, 255), (293, 254), (293, 253), (294, 252), (294, 251), (294, 250), (294, 249), (295, 248), (295, 247), (295, 246), (295, 245), (295, 244), (296, 243), (296, 242), (296, 241), (296, 240), (297, 239), (297, 238), (297, 237), (297, 236), (298, 235), (298, 234), (298, 233), (298, 232), (299, 231), (299, 230), (299, 229), (299, 228), (300, 227), (300, 226), (300, 225), (300, 224), (300, 223), (300, 222), (300, 221), (300, 220), (300, 219), (300, 218), (300, 217), (300, 216), (300, 215), (300, 214), (300, 213), (300, 212), (300, 211), (300, 210), (300, 209), (300, 208), (300, 207), (300, 206), (300, 205), (300, 204), (300, 203), (300, 202), (300, 201), (300, 200), (300, 199), (300, 198), (300, 197), (300, 196), (300, 195), (300, 194), (300, 193), (300, 192), (300, 191), (300, 190), (300, 189), (300, 188), (300, 187), (300, 186), (300, 185), (300, 184), (300, 183), (300, 182), (300, 181), (300, 180), (300, 179), (300, 178), (300, 177), (300, 176), (300, 175), (300, 174), (300, 173), (300, 172), (300, 171), (300, 170), (300, 169), (300, 168), (300, 167), (300, 166), (300, 165), (300, 164), (300, 163), (300, 162), (301, 162), (302, 162), (303, 162), (304, 162), (305, 162), (306, 162), (307, 162), (308, 162), (308, 161), (308, 160), (308, 159), (308, 158), (308, 157), (308, 156), (309, 155), (309, 154), (309, 153), (309, 152), (309, 151), (309, 150), (309, 149), (310, 148), (310, 147), (310, 146), (310, 145), (310, 144), (310, 143), (310, 142), (311, 141), (311, 140), (311, 139), (311, 138), (311, 137), (311, 136), (312, 135), (312, 134), (312, 133), (312, 132), (312, 131), (312, 130), (312, 129), (312, 128), (312, 127), (312, 126), (312, 125), (312, 124), (312, 123), (312, 122), (312, 121), (312, 120), (312, 119), (312, 118), (312, 117), (312, 116), (312, 115), (312, 114), (312, 113), (312, 112), (312, 111), (312, 110), (312, 109), (312, 108), (312, 107), (312, 106), (312, 105), (312, 104), (312, 103), (312, 102), (312, 101), (312, 100), (312, 99), (312, 98), (312, 97), (312, 96), (312, 95), (312, 94), (312, 93), (312, 92), (312, 91), (312, 90), (312, 89), (312, 88), (312, 87), (312, 86), (312, 85), (312, 84), (312, 83), (312, 82), (312, 81), (312, 80), (312, 79), (312, 78), (312, 77), (312, 76), (312, 75), (312, 74), (312, 73), (312, 72), (313, 71), (314, 70), (315, 69), (316, 68), (317, 67), (318, 66), (319, 66), (320, 66), (321, 66), (322, 66), (323, 66), (324, 66), (325, 66), (326, 66), (327, 66), (328, 66), (329, 67), (330, 67), (331, 67), (332, 67), (333, 67), (334, 68), (335, 68), (336, 68), (337, 68), (338, 68), (339, 69), (339, 70), (339, 71), (339, 72), (339, 73)]]]\n"
     ]
    },
    {
     "data": {
      "text/plain": [
       "(439.9238815542516, 1.3248646259307861)"
      ]
     },
     "execution_count": 28,
     "metadata": {},
     "output_type": "execute_result"
    }
   ],
   "source": [
    "groundMapModel = getGroundMapModel(\"test.jpg\")\n",
    "rescue_positions, victim_positions, fatals, rescue_resources, victim_needs = (\n",
    "    generateTest(\n",
    "        groundMapModel=groundMapModel, number_of_rescue_teams=1, number_of_victims=1\n",
    "    )\n",
    ")\n",
    "\n",
    "run_test(groundMapModel, victim_positions, fatals, victim_needs, rescue_positions, rescue_resources)"
   ]
  }
 ],
 "metadata": {
  "kernelspec": {
   "display_name": "Python 3",
   "language": "python",
   "name": "python3"
  },
  "language_info": {
   "codemirror_mode": {
    "name": "ipython",
    "version": 3
   },
   "file_extension": ".py",
   "mimetype": "text/x-python",
   "name": "python",
   "nbconvert_exporter": "python",
   "pygments_lexer": "ipython3",
   "version": "3.11.9"
  }
 },
 "nbformat": 4,
 "nbformat_minor": 2
}
